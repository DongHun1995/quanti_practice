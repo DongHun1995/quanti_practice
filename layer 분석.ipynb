{
 "cells": [
  {
   "cell_type": "code",
   "execution_count": 1,
   "id": "b3017244",
   "metadata": {},
   "outputs": [],
   "source": [
    "import os\n",
    "import numpy as np\n",
    "import matplotlib.pyplot as plt\n",
    "\n",
    "import torch\n",
    "import torch.nn as nn\n",
    "import torch.nn.functional as F\n",
    "\n",
    "import torchvision\n",
    "import torchvision.transforms as transforms\n",
    "from torchvision import datasets\n",
    "from dongnet import dongnet12"
   ]
  },
  {
   "cell_type": "code",
   "execution_count": 2,
   "id": "480fc9ba",
   "metadata": {},
   "outputs": [
    {
     "name": "stdout",
     "output_type": "stream",
     "text": [
      "CUDA is not available. Training on CPU ...\n"
     ]
    }
   ],
   "source": [
    "train_on_gpu = torch.cuda.is_available()\n",
    "\n",
    "if not train_on_gpu:\n",
    "    print('CUDA is not available. Training on CPU ...')\n",
    "else:\n",
    "    print('CUDA is available! Training on GPU ...')"
   ]
  },
  {
   "cell_type": "code",
   "execution_count": 3,
   "id": "9c693eda",
   "metadata": {},
   "outputs": [],
   "source": [
    "# Weigth Loss Value\n",
    "def norm1(X, Y):\n",
    "    return np.sum(np.abs(X-Y))\n",
    "\n",
    "def norm2(X, Y):\n",
    "    return np.sqrt(np.sum(np.square(X-Y)))"
   ]
  },
  {
   "cell_type": "code",
   "execution_count": 4,
   "id": "1a4b7f8d",
   "metadata": {},
   "outputs": [
    {
     "data": {
      "text/plain": [
       "<All keys matched successfully>"
      ]
     },
     "execution_count": 4,
     "metadata": {},
     "output_type": "execute_result"
    }
   ],
   "source": [
    "model = dongnet12()\n",
    "model_dict = torch.load('model.pth', map_location=torch.device('cpu'))  # 상태 사전 로드\n",
    "model.load_state_dict(model_dict)  # 모델에 상태 사전 로드"
   ]
  },
  {
   "cell_type": "code",
   "execution_count": 5,
   "id": "1fbfcd7e",
   "metadata": {},
   "outputs": [
    {
     "name": "stdout",
     "output_type": "stream",
     "text": [
      "Files already downloaded and verified\n",
      "Files already downloaded and verified\n"
     ]
    }
   ],
   "source": [
    "train_transform = transforms.Compose([\n",
    "        #padding을 4추가하고 이미지를 32 X 32로 자름\n",
    "        transforms.RandomCrop(32, padding=4),\n",
    "        #이미지를 뒤집는다\n",
    "        transforms.RandomHorizontalFlip(),\n",
    "        #텐서로 바꾼다\n",
    "        transforms.ToTensor(),\n",
    "        #각 채널별 평균, 표준편차``\n",
    "        transforms.Normalize((0.4914, 0.4822, 0.4465), (0.2023, 0.1994, 0.2010)),\n",
    "    ])\n",
    "\n",
    "test_transform = transforms.Compose([\n",
    "        transforms.ToTensor(),\n",
    "        transforms.Normalize((0.4914, 0.4822, 0.4465), (0.2023, 0.1994, 0.2010)),\n",
    "    ])\n",
    "\n",
    "    # CIFAR10 train 데이터 가져오기\n",
    "    # We will use test set for validation and test in this project.\n",
    "    # Do not use test set for validation in practice!\n",
    "    # CIFAR10 test 데이터 가져오기\n",
    "train_set = torchvision.datasets.CIFAR100(root=\"data\", train=True, download=True, transform=train_transform) \n",
    "test_set = torchvision.datasets.CIFAR100(root=\"data\", train=False, download=True, transform=test_transform)\n",
    "\n",
    "train_sampler = torch.utils.data.RandomSampler(train_set)\n",
    "test_sampler = torch.utils.data.SequentialSampler(test_set)\n",
    "\n",
    "    #sampler은 dataset에서 데이터를 뽑아오는 역할, num_workers는 데이터를 읽어오는 프로세스 수\n",
    "train_loader = torch.utils.data.DataLoader(\n",
    "    dataset=train_set, batch_size=128,\n",
    "    sampler=train_sampler, num_workers=8)\n",
    "\n",
    "test_loader = torch.utils.data.DataLoader(\n",
    "    dataset=test_set, batch_size=256,\n",
    "    sampler=test_sampler, num_workers=8)"
   ]
  },
  {
   "cell_type": "markdown",
   "id": "d0365fc1",
   "metadata": {},
   "source": [
    "# 모델 한층 분석\n",
    "2번째 layer인 conv2에 대한 parameter 분석"
   ]
  },
  {
   "cell_type": "code",
   "execution_count": 8,
   "id": "5f67862f",
   "metadata": {},
   "outputs": [
    {
     "name": "stdout",
     "output_type": "stream",
     "text": [
      "conv1\n",
      "batchnorm1\n",
      "batchnorm1\n",
      "conv2\n",
      "batchnorm2\n",
      "batchnorm2\n",
      "conv3\n",
      "batchnorm3\n",
      "batchnorm3\n",
      "conv4\n",
      "batchnorm4\n",
      "batchnorm4\n",
      "conv5\n",
      "batchnorm5\n",
      "batchnorm5\n",
      "conv6\n",
      "batchnorm6\n",
      "batchnorm6\n",
      "conv7\n",
      "batchnorm7\n",
      "batchnorm7\n",
      "conv8\n",
      "batchnorm8\n",
      "batchnorm8\n",
      "conv9\n",
      "batchnorm9\n",
      "batchnorm9\n",
      "linear_relu\n",
      "linear_relu\n",
      "linear_relu\n",
      "linear_relu\n",
      "linear_relu\n",
      "linear_relu\n"
     ]
    }
   ],
   "source": [
    "for name, param in model.named_parameters():\n",
    "    layername = '.'.join(name.split('.')[:1])\n",
    "    print(layername)\n",
    "    if layername == 'conv2':\n",
    "        conv2 = param.cpu().detach().numpy()"
   ]
  },
  {
   "cell_type": "code",
   "execution_count": 9,
   "id": "fcbe5198",
   "metadata": {},
   "outputs": [
    {
     "name": "stdout",
     "output_type": "stream",
     "text": [
      "(64, 64, 3, 3)\n"
     ]
    }
   ],
   "source": [
    "print(conv2.shape)"
   ]
  },
  {
   "cell_type": "code",
   "execution_count": 10,
   "id": "e599b287",
   "metadata": {},
   "outputs": [
    {
     "name": "stdout",
     "output_type": "stream",
     "text": [
      "36856\n"
     ]
    }
   ],
   "source": [
    "print(len(np.unique(conv2)))"
   ]
  },
  {
   "cell_type": "code",
   "execution_count": 11,
   "id": "c82016dc",
   "metadata": {},
   "outputs": [
    {
     "data": {
      "image/png": "[encoded data removed]",
      "text/plain": [
       "<Figure size 640x480 with 1 Axes>"
      ]
     },
     "metadata": {},
     "output_type": "display_data"
    }
   ],
   "source": [
    "plt.hist(conv2.flatten(), bins=1000)\n",
    "plt.xlabel('variable')\n",
    "plt.ylabel('count')\n",
    "plt.xlim([-0.5, 0.5])\n",
    "plt.title('floating point')\n",
    "plt.grid()"
   ]
  },
  {
   "cell_type": "markdown",
   "id": "eea70315",
   "metadata": {},
   "source": [
    "# symmetric quantization"
   ]
  },
  {
   "cell_type": "code",
   "execution_count": 33,
   "id": "7eb2c5a0",
   "metadata": {},
   "outputs": [],
   "source": [
    "# 1. find threshold\n",
    "NBIT = 8 #quantization bit\n",
    "alpha = np.max(conv2)\n",
    "beta = np.min(conv2)\n",
    "alpha_q = -2**(NBIT - 1)\n",
    "beta_q = 2**(NBIT - 1) - 1\n",
    "\n",
    "s = (beta - alpha) / (beta_q - alpha_q)\n",
    "z = int((beta*alpha_q - alpha * beta_q) / (beta - alpha))\n",
    "\n",
    "data_q = np.round(1/s * conv2 + z, decimals=0)\n",
    "data_q = np.clip(data_q, alpha_q, beta_q)\n",
    "data_q = data_q.astype(np.int8)\n",
    "\n",
    "data_qn = data_q\n",
    "data_qn = data_qn.astype(np.int32)\n",
    "data_qn = s * (data_qn - z)\n",
    "data_qn = data_qn.astype(np.float32)"
   ]
  },
  {
   "cell_type": "code",
   "execution_count": 50,
   "id": "558f6103",
   "metadata": {},
   "outputs": [
    {
     "name": "stdout",
     "output_type": "stream",
     "text": [
      "207\n"
     ]
    },
    {
     "data": {
      "image/png": "[encoded data removed]",
      "text/plain": [
       "<Figure size 640x480 with 1 Axes>"
      ]
     },
     "metadata": {},
     "output_type": "display_data"
    }
   ],
   "source": [
    "print(len(np.unique(data_q)))\n",
    "plt.hist(data_q.flatten(), bins=15)\n",
    "plt.xlabel('variable')\n",
    "plt.ylabel('count')\n",
    "plt.xlim([-100, 100])\n",
    "plt.xticks(np.arange(-100, 100, 10))\n",
    "plt.title('fixed point in summetric quantization')\n",
    "plt.grid()\n",
    "print(da)"
   ]
  },
  {
   "cell_type": "code",
   "execution_count": null,
   "id": "c5f97d6f",
   "metadata": {},
   "outputs": [],
   "source": []
  }
 ],
 "metadata": {
  "kernelspec": {
   "display_name": "Python 3 (ipykernel)",
   "language": "python",
   "name": "python3"
  },
  "language_info": {
   "codemirror_mode": {
    "name": "ipython",
    "version": 3
   },
   "file_extension": ".py",
   "mimetype": "text/x-python",
   "name": "python",
   "nbconvert_exporter": "python",
   "pygments_lexer": "ipython3",
   "version": "3.9.16"
  }
 },
 "nbformat": 4,
 "nbformat_minor": 5
}
